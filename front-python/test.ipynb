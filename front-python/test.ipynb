{
 "cells": [
  {
   "cell_type": "code",
   "execution_count": null,
   "metadata": {},
   "outputs": [],
   "source": [
    "import pandas as pd\n",
    "import matplotlib.pyplot as plt\n",
    "import data_provider as dp\n",
    "\n",
    "# Définir la date de début et le nombre d'options\n",
    "start_date = '2000-07-06'\n",
    "option_number = 1\n",
    "\n",
    "# Liste pour stocker les valeurs du portefeuille\n",
    "portfolio_values = []\n",
    "\n",
    "# Boucle sur une plage de dates (par exemple, 30 jours)\n",
    "for i in range(30):\n",
    "    # Calculer la date pour la journée actuelle\n",
    "    current_date = pd.Timestamp(start_date) + pd.Timedelta(days=i)\n",
    "    \n",
    "    # Convertir la date en chaîne de caractères au format 'dd-mm-YYYY'\n",
    "    string_date = current_date.strftime('%d-%m-%Y')\n",
    "    \n",
    "    # Appeler la fonction pay_dividend_and_rebalance pour obtenir la valeur du portefeuille\n",
    "    portfolio_value = dp.pay_dividend_and_rebalance(string_date, option_number)\n",
    "    \n",
    "    # Ajouter la valeur du portefeuille à la liste\n",
    "    portfolio_values.append(portfolio_value)\n",
    "\n",
    "# Convertir la liste en DataFrame pandas\n",
    "df_portfolio_values = pd.DataFrame(portfolio_values, columns=['Date', 'Portfolio Value'])\n",
    "\n",
    "# Convertir la colonne 'Date' en type datetime\n",
    "df_portfolio_values['Date'] = pd.to_datetime(df_portfolio_values['Date'], format='%d-%m-%Y')\n",
    "\n",
    "# Afficher la courbe de la valeur du portefeuille\n",
    "plt.figure(figsize=(10, 6))\n",
    "plt.plot(df_portfolio_values['Date'], df_portfolio_values['Portfolio Value'], marker='o', linestyle='-')\n",
    "plt.title('Evolution de la valeur du portefeuille')\n",
    "plt.xlabel('Date')\n",
    "plt.ylabel('Valeur du portefeuille')\n",
    "plt.grid(True)\n",
    "plt.show()\n"
   ]
  }
 ],
 "metadata": {
  "language_info": {
   "name": "python"
  }
 },
 "nbformat": 4,
 "nbformat_minor": 2
}
